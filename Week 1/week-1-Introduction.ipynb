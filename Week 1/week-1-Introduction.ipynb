{
 "cells": [
  {
   "attachments": {},
   "cell_type": "markdown",
   "metadata": {},
   "source": [
    "# ENN583 - Week 1 - Practical\n",
    "\n",
    "Welcome to the first Prac session of ENN583. In this notebook, we will explore working with two computer vision / image processing libraries, OpenCV and Scikit-Image.\n"
   ]
  },
  {
   "attachments": {},
   "cell_type": "markdown",
   "metadata": {},
   "source": [
    "## Working with OpenCV\n",
    "\n",
    "Learn how to load an image with OpenCV and display it using Matplotlib."
   ]
  },
  {
   "cell_type": "code",
   "execution_count": null,
   "metadata": {},
   "outputs": [],
   "source": [
    "import cv2\n",
    "from matplotlib import pyplot as plt\n",
    "%matplotlib inline\n",
    "\n",
    "# open an image from the data folder\n",
    "img = cv2.imread('data/qut_01.jpg')\n",
    "\n",
    "# use pyplot to show the image\n",
    "plt.imshow(img)\n",
    "plt.axis('off')\n"
   ]
  },
  {
   "attachments": {},
   "cell_type": "markdown",
   "metadata": {},
   "source": [
    "Do you notice how the colours in the image look a bit strange? This is because OpenCV stores the images in BGR order (blue-green-red) instead of the more common RGB order. \n",
    "\n",
    "The `imshow` function expects images in RGB format, and therefore misinterprets the red channel as the blue channel and vice versa.\n",
    "\n",
    "There is an easy way to fix this, by converting the image into a different format. \n"
   ]
  },
  {
   "cell_type": "code",
   "execution_count": null,
   "metadata": {},
   "outputs": [],
   "source": [
    "# correct the color space\n",
    "plt.imshow(cv2.cvtColor(img, cv2.COLOR_BGR2RGB))\n",
    "plt.axis('off')\n",
    "plt.show()\n"
   ]
  },
  {
   "attachments": {},
   "cell_type": "markdown",
   "metadata": {},
   "source": [
    "If we check the type of the `img` variable, we discover that it is actually a `numpy` `ndarray`. We can use that to directly manipulate the image content if we want:"
   ]
  },
  {
   "cell_type": "code",
   "execution_count": null,
   "metadata": {},
   "outputs": [],
   "source": [
    "# how big is the image and what type is it?\n",
    "print(f'The img variable is of type {type(img)}.')\n",
    "print(f'The img variable has shape {img.shape}.')\n",
    "\n",
    "# a different way of inverting the order of the colour channels, without calling cvtColor\n",
    "plt.imshow(img[:,:,::-1])   # do you understand what this is doing? [:,:,::-1] reverses the order of the colour channels\n",
    "plt.axis('off')\n",
    "plt.show()\n"
   ]
  },
  {
   "attachments": {},
   "cell_type": "markdown",
   "metadata": {},
   "source": [
    "Here is how we can resize the image."
   ]
  },
  {
   "cell_type": "code",
   "execution_count": null,
   "metadata": {},
   "outputs": [],
   "source": [
    "# resize the image to 640x480\n",
    "img_small = cv2.resize(img, (640, 480))\n",
    "plt.imshow(img_small[:,:,::-1])\n",
    "plt.show()\n",
    "\n",
    "# resize the image further by a factor of 0.25\n",
    "img_tiny = cv2.resize(img_small, (0,0), fx=0.25, fy=0.25)\n",
    "plt.imshow(img_tiny[:,:,::-1])\n",
    "plt.show()"
   ]
  },
  {
   "attachments": {},
   "cell_type": "markdown",
   "metadata": {},
   "source": [
    "## Your turn!\n",
    "\n",
    "To familiarise yourself further with the OpenCV library, work through the following tasks. Consult the documentation https://docs.opencv.org/4.7.0/ to find suitable functions and their paramters.\n",
    "\n",
    "- Filter the image `img` with a 11x11 Gaussian blur filter and display the result. Try some other filters such as the median filter.\n",
    "- Convert the image into grey scale and display the result. Save it in a variable called `img_grey`.\n",
    "- Apply the Sobel filter to `img_grey` to highlight horizontal and vertical edges. Consult OpenCV's documentation to learn more about the Sobel filter and how to call it. Display the results of the horizontal and vertical Sobel filter separately.\n",
    "- Now filter the image with a Gaussian blur filter and apply the Sobel filter to the blurred image. Compare to the previous results. What do you notice?\n",
    "- A nother way of obtaining edge information is to calculate the Difference of Gaussian (DoG). \n",
    "  - To do that, take `img_grey` and apply a Gaussian filter with kernel size (3,3). \n",
    "  - Store the result in a new variable (`g1`). \n",
    "  - Then filter `img_grey` with a Gaussian with a bigger kernel, e.g. (5,5). Again, store the result in a new variable `g2`. \n",
    "  - Then subtract the two filtered images from each other (`g1` - `g2`) and display the results.\n",
    "  - Pay special attention to the datatype of the images `g1` and `g2` and how that affects the subtraction.\n",
    "  - Try different kernel sizes.\n",
    "- Use the `glob` module to find all images in the `data` folder. Then open all images and display them side-by-side.\n"
   ]
  },
  {
   "cell_type": "code",
   "execution_count": null,
   "metadata": {},
   "outputs": [],
   "source": [
    "# continue working here\n",
    "\n"
   ]
  },
  {
   "cell_type": "markdown",
   "metadata": {},
   "source": [
    "## Your turn!\n",
    "\n",
    "Now open the file `data/kitchen.jpeg` and display it. We have used this image in the lecture slides of this week.\n",
    "\n",
    "Then perform some simple image operations, as demonstrated in the lecture slides. Go back to the code snippets in the slides to  find the necessary functions and parameters.\n",
    " - create and display a binary mask that highlights all the red pixels in the image\n",
    " - repeat the process for green and blue pixels\n",
    "\n",
    " Use a photo or image of your own choice and perform some simple operations on it. Ideas include:\n",
    "    - converting the image to greyscale\n",
    "    - applying a filter\n",
    "    - creating a binary mask\n",
    "    - resizing the image\n",
    "    - rotating the image\n",
    "    - flipping the image\n",
    "    - cropping the image\n",
    "    - changing the brightness or contrast of the image\n",
    "\n",
    "    "
   ]
  },
  {
   "cell_type": "code",
   "execution_count": null,
   "metadata": {},
   "outputs": [],
   "source": [
    "# continue working here"
   ]
  },
  {
   "attachments": {},
   "cell_type": "markdown",
   "metadata": {},
   "source": [
    "## Working with Scikit-Image\n",
    "\n",
    "Scikit-Image is another widely used computer vision library for Python.\n",
    "\n",
    "You can access its documentation here: https://scikit-image.org/docs/stable/\n",
    "\n",
    "Here are some basic examples that demonstrate its use."
   ]
  },
  {
   "cell_type": "code",
   "execution_count": null,
   "metadata": {},
   "outputs": [],
   "source": [
    "import skimage as ski\n",
    "import numpy as np\n",
    "\n",
    "# open an image from the data folder\n",
    "img = ski.io.imread('data/qut_01.jpg')\n",
    "\n",
    "# use pyplot to show the image\n",
    "plt.imshow(img)\n",
    "plt.axis('off')\n",
    "plt.show()\n",
    "\n",
    "print(f'The img variable is of type {type(img)}.')  # skimage also gives us images as a numpy ndarray"
   ]
  },
  {
   "cell_type": "code",
   "execution_count": null,
   "metadata": {},
   "outputs": [],
   "source": [
    "# resize the image to 640x480\n",
    "img_small = ski.transform.resize(img, (480, 640))   # skimage uses (y, x) order for image dimensions\n",
    "plt.imshow(img_small)\n",
    "plt.axis('off')\n",
    "plt.show()\n",
    "\n",
    "# resize the image further by a factor of 0.25\n",
    "img_tiny = ski.transform.rescale(img_small, 0.25, channel_axis=2) # channel_axis=2 tells skimage that the colour channels are the last dimension\n",
    "plt.imshow(img_tiny)\n",
    "plt.axis('off')\n",
    "plt.show()"
   ]
  },
  {
   "attachments": {},
   "cell_type": "markdown",
   "metadata": {},
   "source": [
    "## Your turn!\n",
    "\n",
    "Repeat some of the experiments you did with OpenCV above, but use the Scikit-Image library. Which library suits you more, which do you find more easy to use?"
   ]
  },
  {
   "cell_type": "code",
   "execution_count": null,
   "metadata": {},
   "outputs": [],
   "source": [
    "# continue working here\n",
    "\n"
   ]
  },
  {
   "attachments": {},
   "cell_type": "markdown",
   "metadata": {},
   "source": [
    "## Which Library is more Efficient?\n",
    "\n",
    "Now you have seen that there are at least two capable libraries available in Python that can do the image processing and computer vision you will need in ENN583.\n",
    "\n",
    "Let's figure out which of them is more efficient and can execute common routines faster.\n",
    "\n",
    "Use the `%time` and `%timit` magic commands in Jupyter to measure how long a certain functions take. Make sure to check the Gaussian blur and the Sobel filters.\n",
    "\n",
    "Here is an example:\n",
    "- `%time cv2.resize(img, (640, 480))` will execute the `resize` function *once* and tell you how long it took to execute: `CPU times: user 1.09 ms, sys: 1.27 ms, total: 2.36 ms`\n",
    "- To get more reliable measurements, the more sophisticated `%timeit` command executes the function *multiple* times. Make sure to read the documentation https://ipython.readthedocs.io/en/stable/interactive/magics.html#magic-timeit to see and understand all the options. A typical return will look like this: `326 µs ± 19.8 µs per loop (mean ± std. dev. of 7 runs, 1,000 loops each)`. \n"
   ]
  },
  {
   "cell_type": "code",
   "execution_count": null,
   "metadata": {},
   "outputs": [],
   "source": [
    "# continue working here"
   ]
  }
 ],
 "metadata": {
  "kernelspec": {
   "display_name": "enn583",
   "language": "python",
   "name": "python3"
  },
  "language_info": {
   "codemirror_mode": {
    "name": "ipython",
    "version": 3
   },
   "file_extension": ".py",
   "mimetype": "text/x-python",
   "name": "python",
   "nbconvert_exporter": "python",
   "pygments_lexer": "ipython3",
   "version": "3.10.11"
  },
  "orig_nbformat": 4
 },
 "nbformat": 4,
 "nbformat_minor": 2
}
