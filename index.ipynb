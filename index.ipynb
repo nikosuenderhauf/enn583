{
 "cells": [
  {
   "attachments": {},
   "cell_type": "markdown",
   "metadata": {},
   "source": [
    "# Welcome to ENN583 - Foundations of Robotic Vision\n",
    "\n",
    "This repository contains Jupyter Notebooks and other supporting resources for ENN583.\n",
    "\n",
    "The content is ordered by weeeks. Check the folders for each week in the navigation panel on the left of the Jupyter Lab environment.\n",
    "\n",
    "You will have to peridocally (i.e. every week) pull the updated content from Github. This is simply done by clicking on this link:\n",
    "https://jupyter.eres.qut.edu.au/hub/user-redirect/git-pull?repo=https%3A%2F%2Fgithub.com%2Fnikosuenderhauf%2Fenn583&urlpath=lab%2Ftree%2Fenn583%2Findex.ipynb&branch=2024\n"
   ]
  }
 ],
 "metadata": {
  "language_info": {
   "name": "python"
  },
  "orig_nbformat": 4
 },
 "nbformat": 4,
 "nbformat_minor": 2
}
