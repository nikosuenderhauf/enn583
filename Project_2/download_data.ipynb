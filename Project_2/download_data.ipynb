{
 "cells": [
  {
   "cell_type": "markdown",
   "id": "7d8ce150-0293-493d-819c-8a86dba99ea7",
   "metadata": {},
   "source": [
    "# This file will download the Project 2 data and supporting code. \n",
    "\n",
    "## Download the file from google drive"
   ]
  },
  {
   "cell_type": "code",
   "execution_count": 2,
   "id": "81468c75-44b3-4338-840a-53085789b94d",
   "metadata": {},
   "outputs": [
    {
     "name": "stdout",
     "output_type": "stream",
     "text": [
      "Requirement already satisfied: gdown in /opt/conda/lib/python3.11/site-packages (5.2.0)\n",
      "Requirement already satisfied: beautifulsoup4 in /opt/conda/lib/python3.11/site-packages (from gdown) (4.12.3)\n",
      "Requirement already satisfied: filelock in /opt/conda/lib/python3.11/site-packages (from gdown) (3.15.4)\n",
      "Requirement already satisfied: requests[socks] in /opt/conda/lib/python3.11/site-packages (from gdown) (2.32.3)\n",
      "Requirement already satisfied: tqdm in /opt/conda/lib/python3.11/site-packages (from gdown) (4.66.5)\n",
      "Requirement already satisfied: soupsieve>1.2 in /opt/conda/lib/python3.11/site-packages (from beautifulsoup4->gdown) (2.5)\n",
      "Requirement already satisfied: charset-normalizer<4,>=2 in /opt/conda/lib/python3.11/site-packages (from requests[socks]->gdown) (3.3.2)\n",
      "Requirement already satisfied: idna<4,>=2.5 in /opt/conda/lib/python3.11/site-packages (from requests[socks]->gdown) (3.7)\n",
      "Requirement already satisfied: urllib3<3,>=1.21.1 in /opt/conda/lib/python3.11/site-packages (from requests[socks]->gdown) (2.2.2)\n",
      "Requirement already satisfied: certifi>=2017.4.17 in /opt/conda/lib/python3.11/site-packages (from requests[socks]->gdown) (2024.7.4)\n",
      "Requirement already satisfied: PySocks!=1.5.7,>=1.5.6 in /opt/conda/lib/python3.11/site-packages (from requests[socks]->gdown) (1.7.1)\n",
      "Downloading...\n",
      "From (original): https://drive.google.com/uc?id=1rOy_cmhSnLAvY_N4YjGZfjGHip6IGcXG\n",
      "From (redirected): https://drive.google.com/uc?id=1rOy_cmhSnLAvY_N4YjGZfjGHip6IGcXG&confirm=t&uuid=93a91815-71aa-436c-9a43-82fc1d202eae\n",
      "To: /home/miller24/enn583/enn583/Project_2/Project_2.zip\n",
      "100%|████████████████████████████████████████| 862M/862M [00:24<00:00, 34.5MB/s]\n"
     ]
    }
   ],
   "source": [
    "!rm -rf Graspnet_subset\n",
    "!rm -rf test_prompts.json\n",
    "!rm -rf validation_prompts.json\n",
    "!rm -rf validation_grasp_labels.json\n",
    "!rm -rf validation_object_labels.json\n",
    "!rm -rf evaluation_support_script.ipynb\n",
    "\n",
    "!pip install gdown\n",
    "\n",
    "!gdown https://drive.google.com/uc?id=1rOy_cmhSnLAvY_N4YjGZfjGHip6IGcXG"
   ]
  },
  {
   "cell_type": "markdown",
   "id": "ad8f7e1f-785c-4da3-94df-890f3e13a468",
   "metadata": {},
   "source": [
    "## Unzip the folder and configure as specified in the assignment brief."
   ]
  },
  {
   "cell_type": "code",
   "execution_count": 3,
   "id": "9729c862-b7f6-473a-8968-f777952cd713",
   "metadata": {},
   "outputs": [],
   "source": [
    "!unzip -q Project_2.zip\n",
    "\n",
    "!mv Project_2/* .\n",
    "!rm -rf Project_2"
   ]
  },
  {
   "cell_type": "code",
   "execution_count": null,
   "id": "882f6a74-017f-47e9-ac3f-606abe465633",
   "metadata": {},
   "outputs": [],
   "source": []
  }
 ],
 "metadata": {
  "kernelspec": {
   "display_name": "Python 3 (ipykernel)",
   "language": "python",
   "name": "python3"
  },
  "language_info": {
   "codemirror_mode": {
    "name": "ipython",
    "version": 3
   },
   "file_extension": ".py",
   "mimetype": "text/x-python",
   "name": "python",
   "nbconvert_exporter": "python",
   "pygments_lexer": "ipython3",
   "version": "3.11.9"
  }
 },
 "nbformat": 4,
 "nbformat_minor": 5
}
