{
 "cells": [
  {
   "cell_type": "markdown",
   "id": "7472db4a-6706-4d8a-8625-3e2275011fa5",
   "metadata": {},
   "source": [
    "# ENN583 Week 8 - Using PyTorch to train an Image Classifier\n",
    "\n",
    "We will use this week's practical to become familiar with PyTorch, in particular how you to use the building blocks of deep learning with this library.\n",
    "\n",
    "We will follow the deep learning \"building blocks\" that we discussed in the tutorial:\n",
    "* Data:\n",
    "  * Training, validation and test subsets\n",
    "  * Data pre-processing\n",
    "* Model:\n",
    "  * creating an architecture\n",
    "  * using convolutional layers, pooling layers, fully-connected linear layers, non-linear activation functions, and batch normalisation\n",
    "* Training a model:\n",
    "  * creating a loss function\n",
    "  * creating a stochastic gradient descent (SGD) optimizer\n",
    "  * using the optimizer and backpropagation to train the model parameters\n",
    "* Evaluating a model:\n",
    "  * accuracy performance metric\n",
    "\n",
    "# 1. Load libraries\n"
   ]
  },
  {
   "cell_type": "code",
   "execution_count": 1,
   "id": "831e60e8-46fe-4cc0-9af0-c6c559c2a954",
   "metadata": {
    "tags": []
   },
   "outputs": [],
   "source": [
    "import torch\n",
    "import torch.nn as nn\n",
    "import torch.nn.functional as F\n",
    "\n",
    "import torchvision\n",
    "import torchvision.transforms as transforms\n",
    "\n",
    "import matplotlib.pyplot as plt\n",
    "import numpy as np\n",
    "\n",
    "import tqdm"
   ]
  },
  {
   "cell_type": "markdown",
   "id": "0eafab03-c101-488e-b3b5-3d5c6e93a15d",
   "metadata": {},
   "source": [
    "# 2. The Data\n",
    "\n",
    "The ```torchvision``` dataset has a number of [in-built datasets](https://pytorch.org/vision/main/datasets.html). These are very easy to load and work with.\n",
    "\n",
    "One of this is a dataset called CIFAR10, which we are going to be performing image classification on. It has 10 classes: ‘airplane’, ‘automobile’, ‘bird’, ‘cat’, ‘deer’, ‘dog’, ‘frog’, ‘horse’, ‘ship’, ‘truck’. The images in CIFAR-10 are of size 3x32x32, i.e. 3-channel color images of 32x32 pixels in size.\n"
   ]
  },
  {
   "cell_type": "code",
   "execution_count": 27,
   "id": "1d5dead3-8f8c-4018-b07a-ffbc7e46bc61",
   "metadata": {
    "tags": []
   },
   "outputs": [],
   "source": [
    "class_labels = ('plane', 'car', 'bird', 'cat',\n",
    "           'deer', 'dog', 'frog', 'horse', 'ship', 'truck')"
   ]
  },
  {
   "cell_type": "markdown",
   "id": "4502bddf-8e86-4c68-923d-737751c3b0dc",
   "metadata": {},
   "source": [
    "<img src=\"figures/cifar10.png\" alt=\"cifar10\" width=\"500\"/>\n",
    "\n",
    "Before we can load the dataset, we need to specify the necessary pre-processing that we're applying to the data. We do this with [transforms](https://pytorch.org/vision/0.9/transforms.html), which are a torchvision class.\n",
    "\n",
    "Generally, there are always at least two image transforms we need to do:\n",
    "* [convert the image into a Tensor](https://pytorch.org/vision/stable/generated/torchvision.transforms.ToTensor.html). A Tensor is the standard data type necessary for PyTorch, which represents multi-dimensional matrices\n",
    "* [normalize the channels of the image by a mean and standard deviation](https://pytorch.org/vision/stable/generated/torchvision.transforms.Normalize.html#torchvision.transforms.Normalize). Each channel pixel values are standardized in the image tensors, which can be helpful for stabilizing the training of neural networks. Standard values are 0.5 for the mean and standard deviation.\n",
    "\n",
    "With some datasets, we also need to resize images and apply other transformations."
   ]
  },
  {
   "cell_type": "code",
   "execution_count": 2,
   "id": "88aba934-2caa-4b34-a901-c2bd36e971c1",
   "metadata": {
    "tags": []
   },
   "outputs": [],
   "source": [
    "basic_transform = transforms.Compose(\n",
    "    [transforms.ToTensor(),\n",
    "     transforms.Normalize((0.5, 0.5, 0.5), (0.5, 0.5, 0.5))])"
   ]
  },
  {
   "cell_type": "markdown",
   "id": "8dcf8273-63b1-450f-924e-488bf08fadd5",
   "metadata": {},
   "source": [
    "### Now time to load the dataset!\n",
    "\n",
    "Torchvision in-built datasets have 4 arguments that need to be included:\n",
    "* ```root``` -- a string of where the data is stored\n",
    "* ```train``` -- a boolean (True, False), that indicates whether it is the train or test subset of the dataset\n",
    "* ```download``` -- a boolean (True, False), on whether the data should be downloaded\n",
    "* ```transform``` -- the transformations that need to be applied to the data to make it suitable for a neural network."
   ]
  },
  {
   "cell_type": "code",
   "execution_count": 3,
   "id": "b50c776e-2fa8-47c5-833d-021a3cf3ceb3",
   "metadata": {
    "tags": []
   },
   "outputs": [
    {
     "name": "stdout",
     "output_type": "stream",
     "text": [
      "Files already downloaded and verified\n",
      "Files already downloaded and verified\n"
     ]
    }
   ],
   "source": [
    "train_dataset = torchvision.datasets.CIFAR10(root='data', train=True,\n",
    "                                        download=True, transform=basic_transform)\n",
    "\n",
    "val_dataset = torchvision.datasets.CIFAR10(root='data', train=False,\n",
    "                                        download=True, transform=basic_transform)"
   ]
  },
  {
   "cell_type": "markdown",
   "id": "d1e26fd7-5c6b-442b-a75b-309eb47f4a41",
   "metadata": {},
   "source": [
    "### Using a Data Loader\n",
    "\n",
    "In PyTorch, a ```DataLoader``` is a crucial component that streamlines data loading, making it easier to feed data into your deep learning models. Below are some of the key reasons why using a ```DataLoader``` is useful:\n",
    "\n",
    "* **Batching**: Deep learning models often use mini-batch gradient descent or its variants (e.g., stochastic gradient descent, Adam) for optimization. DataLoader automatically groups the dataset into batches so that you can easily iterate over them during training.\n",
    "* **Shuffling**: It's often beneficial to shuffle your training data to ensure the model does not memorize the data's order. DataLoader can automatically shuffle the data at each epoch.\n",
    "* **Parallel data loading**: DataLoader enables parallel loading using multi-threading, which can significantly speed up the data pipeline.\n",
    "\n",
    "**Your turn:**\n",
    "Create a pytorch [dataloader](https://pytorch.org/docs/stable/data.html#torch.utils.data.DataLoader) for the train_dataset and test_dataset, using the following parameters:\n",
    "* both dataloaders should have a batch size of 64\n",
    "* both dataloaders should use 2 workers to load the data (i.e. num_workers)\n",
    "* trainloader should shuffle the data, testloader should not shuffle the data\n"
   ]
  },
  {
   "cell_type": "code",
   "execution_count": 4,
   "id": "cb212f36-ed10-45d0-b90f-9841a4735a14",
   "metadata": {
    "tags": []
   },
   "outputs": [],
   "source": [
    "######## Your code goes below ############\n"
   ]
  },
  {
   "cell_type": "markdown",
   "id": "bdf9248d-adfc-42a7-a28b-f62f437fecaf",
   "metadata": {
    "tags": []
   },
   "source": [
    "# 3. The Model: Create a Convolutional Neural Network\n",
    "\n",
    "Below, we're creating a python class for a simple CNN that has 2 convolutional layers with Max pooling, followed by 2 fully-connected layers. We use ReLU activation functions. Try drawing the architecture of this diagram on paper.\n",
    "\n",
    "You can read the documentation for the different layer types here:\n",
    "* [nn.Conv2d](https://pytorch.org/docs/stable/generated/torch.nn.Conv2d.html)\n",
    "* [nn.MaxPool2d](https://pytorch.org/docs/stable/generated/torch.nn.MaxPool2d.html)\n",
    "* [nn.Linear](https://pytorch.org/docs/stable/generated/torch.nn.Linear.html)\n",
    "* [nn.ReLU](https://pytorch.org/docs/stable/generated/torch.nn.ReLU.html)\n",
    "\n",
    "The class definitions for a PyTorch model generally follow this minimum structure:\n",
    "1. an **\\__init__()** function where we create the model architecture.\n",
    "2. a **foward()** function where we pass an input through our model and return its output.\n",
    "    1. In the \\__init__ function, we created the layers that make our architecture. Now we must apply them sequentially.\n",
    "\n"
   ]
  },
  {
   "cell_type": "code",
   "execution_count": 20,
   "id": "96234337-1482-45d4-91bc-ca68ad017227",
   "metadata": {
    "tags": []
   },
   "outputs": [],
   "source": [
    "class SimpleNet(nn.Module):\n",
    "    def __init__(self):\n",
    "        super().__init__()\n",
    "        self.conv1 = nn.Conv2d(3, 6, 5)\n",
    "        self.pool = nn.MaxPool2d(2, 2)\n",
    "        self.conv2 = nn.Conv2d(6, 16, 5)\n",
    "        \n",
    "        self.fc1 = nn.Linear(16 * 5 * 5, 120)\n",
    "        self.fc2 = nn.Linear(120, 10)\n",
    "        \n",
    "        self.relu = nn.ReLU()\n",
    "\n",
    "    def forward(self, x):\n",
    "        x = self.pool(self.relu(self.conv1(x)))\n",
    "        x = self.pool(self.relu(self.conv2(x)))\n",
    "        \n",
    "        x = torch.flatten(x, 1) # flatten all dimensions except batch to be compatible with fully connected layer\n",
    "\n",
    "        x = self.fc1(x)\n",
    "        x = self.fc2(self.relu(x))\n",
    "        return x\n"
   ]
  },
  {
   "cell_type": "markdown",
   "id": "ed0988d3-f9dc-4318-a797-c899af5303ff",
   "metadata": {},
   "source": [
    "Now that we've defined the network, let's create an instance of it. We're also *hopefully* using a GPU node at the moment, so we'll load the network onto the GPU if we are. If not, don't worry -- the network will stay on the CPU."
   ]
  },
  {
   "cell_type": "code",
   "execution_count": 21,
   "id": "7fb24839-73a4-4401-9aa9-4d4c8c7d03df",
   "metadata": {
    "tags": []
   },
   "outputs": [
    {
     "name": "stdout",
     "output_type": "stream",
     "text": [
      "SimpleNet(\n",
      "  (conv1): Conv2d(3, 6, kernel_size=(5, 5), stride=(1, 1))\n",
      "  (pool): MaxPool2d(kernel_size=2, stride=2, padding=0, dilation=1, ceil_mode=False)\n",
      "  (conv2): Conv2d(6, 16, kernel_size=(5, 5), stride=(1, 1))\n",
      "  (fc1): Linear(in_features=400, out_features=120, bias=True)\n",
      "  (fc2): Linear(in_features=120, out_features=10, bias=True)\n",
      "  (relu): ReLU()\n",
      ")\n",
      "cuda:0\n"
     ]
    }
   ],
   "source": [
    "device = torch.device('cuda:0' if torch.cuda.is_available() else 'cpu') #this line checks if we have a GPU available\n",
    "\n",
    "#create network and load onto device\n",
    "model = SimpleNet()\n",
    "model.to(device)\n",
    "\n",
    "print(model)\n",
    "print(device)"
   ]
  },
  {
   "cell_type": "markdown",
   "id": "aedec637-0210-4c18-b6e5-2863cede3fe2",
   "metadata": {},
   "source": [
    "# 4. Training the Model\n",
    "\n",
    "## 4a). Defining the Loss function\n",
    "One of the most standard loss functions for image classification is cross-entropy loss. PyTorch has an in-built function for this [loss](https://pytorch.org/docs/stable/generated/torch.nn.CrossEntropyLoss.html), which we use below."
   ]
  },
  {
   "cell_type": "code",
   "execution_count": 22,
   "id": "c10add32-b9fe-46c7-9358-2d7be3951912",
   "metadata": {
    "tags": []
   },
   "outputs": [],
   "source": [
    "loss_fn = nn.CrossEntropyLoss()"
   ]
  },
  {
   "cell_type": "markdown",
   "id": "685852a7-4044-493e-bf1e-499f45311756",
   "metadata": {},
   "source": [
    "## 4b). Defining the optimizer\n",
    "Let's create a stochastic gradient descent optimizer. First, read the documentation [here](https://pytorch.org/docs/stable/generated/torch.optim.SGD.html#torch.optim.SGD). \n",
    "\n",
    "There are a few important input arguments:\n",
    "* params: we can initialise the optimizer to optimize the model parameters by pointing to ```model.parameters()```\n",
    "* lr: this is the learning rate of the optimizer, or the step size during gradient descent\n",
    "* momentum: this is an optional argument that often improves performance by smoothing out noise during gradient descent.\n",
    "* weight_decay: this is an optional argument to regularize the weights with an L2 norm.\n",
    "\n",
    "Below, we're creating an optimizer with a learning rate of 0.001 and momentum of 0.9."
   ]
  },
  {
   "cell_type": "code",
   "execution_count": 23,
   "id": "71d01440-7c47-4c16-bd5d-f2f4e6b1c774",
   "metadata": {
    "tags": []
   },
   "outputs": [],
   "source": [
    "optimizer = torch.optim.SGD(model.parameters(), lr=0.005, momentum=0.9)"
   ]
  },
  {
   "cell_type": "markdown",
   "id": "3b32ac34-33c0-4db6-b20a-e42fd63d55b2",
   "metadata": {},
   "source": [
    "## 4c). Creating a training loop \n",
    "\n",
    "In the cell below, we're training the neural network (CNN) for 2 epochs. This should take about 1 minute if you're on the GPU, and about 2 minutes if you're on the CPU.\n",
    "\n",
    "Notice the general flow of the training process:\n",
    "1. For every epoch:\n",
    "    1. We iterate through each batch in our trainloader\n",
    "        1. We separate the inputs from the GT class labels\n",
    "        2. Move inputs and GT labels to the GPU if available\n",
    "        4. Zero the parameter gradients -- this is to ensure we start 'fresh' for each step of gradient descent.\n",
    "        5. Forward pass through the network to find the prediction\n",
    "        6. Calculate the loss between the prediction and GT labels\n",
    "        7. Calculate the gradients with a backwards pass\n",
    "        8. Change the parameters based on the gradients, using the optimizer\n",
    "        9. Record any data we want to save\n",
    "        \n",
    "This is the general flow for the training process, with some important elements missing... before we get to that, run the training process, and observe the loss curve produced at the end."
   ]
  },
  {
   "cell_type": "code",
   "execution_count": 24,
   "id": "da187490-b836-440c-8cc4-81df833088b2",
   "metadata": {
    "tags": []
   },
   "outputs": [
    {
     "name": "stderr",
     "output_type": "stream",
     "text": [
      "Epoch 0: 100%|██████████| 782/782 [00:05<00:00, 131.32it/s]\n",
      "Epoch 1: 100%|██████████| 782/782 [00:05<00:00, 135.05it/s]\n",
      "Epoch 2: 100%|██████████| 782/782 [00:05<00:00, 137.04it/s]\n",
      "Epoch 3: 100%|██████████| 782/782 [00:05<00:00, 137.02it/s]\n",
      "Epoch 4: 100%|██████████| 782/782 [00:05<00:00, 138.69it/s]\n",
      "Epoch 5: 100%|██████████| 782/782 [00:05<00:00, 136.51it/s]\n",
      "Epoch 6: 100%|██████████| 782/782 [00:05<00:00, 135.28it/s]\n",
      "Epoch 7: 100%|██████████| 782/782 [00:06<00:00, 129.20it/s]\n",
      "Epoch 8: 100%|██████████| 782/782 [00:05<00:00, 135.28it/s]\n",
      "Epoch 9: 100%|██████████| 782/782 [00:05<00:00, 138.95it/s]\n"
     ]
    },
    {
     "data": {
      "image/png": "[encoded data removed]",
      "text/plain": [
       "<Figure size 640x480 with 1 Axes>"
      ]
     },
     "metadata": {},
     "output_type": "display_data"
    }
   ],
   "source": [
    "losses = {'train': []}\n",
    "total_epochs = 10\n",
    "\n",
    "for epoch in range(total_epochs):    \n",
    "    train_loss = []\n",
    "    \n",
    "    for i, data in tqdm.tqdm(enumerate(trainloader, 0), total = len(trainloader), desc = f'Epoch {epoch}'):\n",
    "        inputs, labels = data\n",
    "        \n",
    "        #move the inputs and labels to the GPU if available\n",
    "        inputs = inputs.to(device)\n",
    "        labels = labels.to(device)\n",
    "\n",
    "        # zero the parameter gradients\n",
    "        optimizer.zero_grad()\n",
    "\n",
    "        # forward pass to find the outputs\n",
    "        outputs = model(inputs)\n",
    "        \n",
    "        #calculate the loss\n",
    "        loss = loss_fn(outputs, labels)\n",
    "        \n",
    "        #backward pass to calculate the gradient\n",
    "        loss.backward()\n",
    "        \n",
    "        #take a step with gradient descent to change the parameters\n",
    "        optimizer.step()\n",
    "\n",
    "        #let's keep track of the loss\n",
    "        train_loss += [loss.cpu().item()]\n",
    "\n",
    "    #record the mean loss over the entire epoch\n",
    "    epoch_loss = np.mean(train_loss)\n",
    "    losses['train'] += [epoch_loss]\n",
    "    \n",
    "#let's plot the loss for each epoch to observe how it changes over 10 epochs\n",
    "plt.plot(losses['train'], label = 'Train')\n",
    "plt.xlabel('Epochs')\n",
    "plt.ylabel('Loss')\n",
    "plt.legend()\n",
    "plt.show()"
   ]
  },
  {
   "cell_type": "markdown",
   "id": "8c5a2e70-c3a9-43f4-8f7a-28c7b675275b",
   "metadata": {},
   "source": [
    "### Your turn!\n",
    "There are a number of key elements missing from the cell above. I've pasted the same code below. One-by-one, add each of these elements to the below cell.\n",
    "\n",
    "1. The loss itself is not very interpretable. Create another plot that shows the average accuracy on the training data at each epoch.\n",
    "    1. You will need to find the predicted class by using the maximum class score in outputs for each input. The torch.argmax() function will be useful.\n",
    "    2. You will need to compare the predicted class to the GT labels stored in the labels variable.\n",
    "2. Comparison to the validation dataset in each epoch.\n",
    "    1. After the loop that tests the trainloader, add a loop that tests the valloader.\n",
    "    **It is critical that you do not perform a backward pass of optimizer step on the validation data. We do not want to learn from the validation data, only measure performance.**\n",
    "    2. Store the loss and accuracy for the validation data, and plot it on the same plots as the training datasets.\n",
    "\n",
    "**NOTE:** When you want to train the model, you should enter 'training' mode by calling ```model.train()```. When you want to evaluate your model, you should enter 'eval' mode by calling ```model.eval()```.\n",
    "\n",
    "After you've done the above, consider: At what point has the model converged?\n",
    " "
   ]
  },
  {
   "cell_type": "code",
   "execution_count": 19,
   "id": "7aaddd46-fdf9-41c1-b75d-604ab1a08eda",
   "metadata": {
    "tags": []
   },
   "outputs": [
    {
     "name": "stderr",
     "output_type": "stream",
     "text": [
      "Epoch 0: 100%|██████████| 782/782 [00:05<00:00, 136.11it/s]\n",
      "Epoch 1: 100%|██████████| 782/782 [00:05<00:00, 134.95it/s]\n",
      "Epoch 2: 100%|██████████| 782/782 [00:05<00:00, 136.91it/s]\n",
      "Epoch 3: 100%|██████████| 782/782 [00:05<00:00, 136.57it/s]\n",
      "Epoch 4: 100%|██████████| 782/782 [00:06<00:00, 121.99it/s]\n",
      "Epoch 5: 100%|██████████| 782/782 [00:05<00:00, 138.11it/s]\n",
      "Epoch 6: 100%|██████████| 782/782 [00:05<00:00, 135.22it/s]\n",
      "Epoch 7: 100%|██████████| 782/782 [00:06<00:00, 123.54it/s]\n",
      "Epoch 8: 100%|██████████| 782/782 [00:06<00:00, 124.73it/s]\n",
      "Epoch 9: 100%|██████████| 782/782 [00:05<00:00, 136.98it/s]\n"
     ]
    },
    {
     "data": {
      "image/png": "[encoded data removed]",
      "text/plain": [
       "<Figure size 640x480 with 1 Axes>"
      ]
     },
     "metadata": {},
     "output_type": "display_data"
    }
   ],
   "source": [
    "####UPDATE THE CODE BELOW\n",
    "model = SimpleNet()\n",
    "model.to(device)\n",
    "\n",
    "loss_fn = nn.CrossEntropyLoss()\n",
    "\n",
    "optimizer = torch.optim.SGD(model.parameters(), lr=0.005, momentum=0.9)\n",
    "\n",
    "losses = {'train': []}\n",
    "total_epochs = 10\n",
    "\n",
    "for epoch in range(total_epochs):    \n",
    "    train_loss = []\n",
    "    \n",
    "    for i, data in tqdm.tqdm(enumerate(trainloader, 0), total = len(trainloader), desc = f'Epoch {epoch}'):\n",
    "        inputs, labels = data\n",
    "        \n",
    "        #move the inputs and labels to the GPU if available\n",
    "        inputs = inputs.to(device)\n",
    "        labels = labels.to(device)\n",
    "\n",
    "        # zero the parameter gradients\n",
    "        optimizer.zero_grad()\n",
    "\n",
    "        # forward pass to find the outputs\n",
    "        outputs = model(inputs)\n",
    "        \n",
    "        #calculate the loss\n",
    "        loss = loss_fn(outputs, labels)\n",
    "        \n",
    "        #backward pass to calculate the gradient\n",
    "        loss.backward()\n",
    "        \n",
    "        #take a step with gradient descent to change the parameters\n",
    "        optimizer.step()\n",
    "\n",
    "        #let's keep track of the loss\n",
    "        train_loss += [loss.cpu().item()]\n",
    "\n",
    "    #record the mean loss over the entire epoch\n",
    "    epoch_loss = np.mean(train_loss)\n",
    "    losses['train'] += [epoch_loss]\n",
    "    \n",
    "#let's plot the loss for each epoch to observe how it changes over 10 epochs\n",
    "plt.plot(losses['train'], label = 'Train')\n",
    "plt.xlabel('Epochs')\n",
    "plt.ylabel('Loss')\n",
    "plt.legend()\n",
    "plt.show()"
   ]
  },
  {
   "cell_type": "markdown",
   "id": "7bc599dd-435f-4d30-9ad1-047bc5e3c939",
   "metadata": {},
   "source": [
    "# Further Exploration\n",
    "There are a number of remaining areas to explore. Depending on how you're going for time, pick one or try them all!\n",
    "\n",
    "## 1. Data Augmentation\n",
    "\n",
    "There are a couple of things that can help with overfitting -- one would be adding some data transformations. Go through the additional data transformation functions below, and choose some additional transforms to apply. Remember to tailor the transformations to the characteristics the dataset (e.g. does it make sense to rotate the image 180 degrees?). We also only apply data augmentation to the training set, while the validation and test sets will use the standard transform that does not include data augmentation.\n",
    "\n",
    "**Your turn: Pick additional data transforms and add create a train_transforms list, then re-load the train dataset and see how this affects performance!**\n",
    "\n",
    "1. (already implemented below) [transforms.RandomResizedCrop](https://pytorch.org/vision/stable/generated/torchvision.transforms.RandomResizedCrop.html) -- this function randomly grabs a portion of the image (crops) and then resizes to the desired image size. By default, the crop can be anywhere between 8% to 100% of the image original area -- this is a little strict, I'm going to choose between 50% and 100% of the image area.\n",
    "2. [transforms.RandomHorizontalFlip](https://pytorch.org/vision/stable/generated/torchvision.transforms.RandomHorizontalFlip.html) -- randomly flips an image horizontally. Useful for tasks where horizontal orientation doesn't change the meaning.\n",
    "3. [transforms.RandomVerticalFlip](https://pytorch.org/vision/stable/generated/torchvision.transforms.RandomVerticalFlip.html) -- randomly flips an image vertically. Useful for tasks where vertical orientation doesn't change the meaning.\n",
    "4. [transforms.RandomRotation](https://pytorch.org/vision/stable/generated/torchvision.transforms.RandomRotation.html) -- randomly rotates an image by a specified angle. Can simulate variations in viewpoint.\n",
    "5. [transforms.ColorJitter](https://pytorch.org/vision/stable/generated/torchvision.transforms.ColorJitter.html) -- randomly changes brightness, contrast, saturation, and hue of an image. Helps the model to be robust to different lighting conditions.\n",
    "\n",
    "Once we've done this, you can re-initialise the training dataset with this transform.\n",
    "\n",
    "**What's going on here?**\n",
    "\n",
    "Each of the 'Random' transformations will be sequentially applied to an input image, with different transformations of different severities - the severity of the transformation is the random component. When you chain together multiple different types of 'Random' transformations, we can end up with a huge variation of different images from our training dataset.\n"
   ]
  },
  {
   "cell_type": "code",
   "execution_count": 30,
   "id": "98201363-b75b-4d1d-98ce-33e604550e3e",
   "metadata": {
    "tags": []
   },
   "outputs": [],
   "source": [
    "#### Insert code here to create a new transform for the training data, re-initialise the train_dataset with these transforms, and re-create the trainloader"
   ]
  },
  {
   "cell_type": "code",
   "execution_count": 29,
   "id": "cac10757-6753-4328-92b1-58618c6111c9",
   "metadata": {
    "tags": []
   },
   "outputs": [
    {
     "data": {
      "image/png": "[encoded data removed]",
      "text/plain": [
       "<Figure size 640x480 with 5 Axes>"
      ]
     },
     "metadata": {},
     "output_type": "display_data"
    }
   ],
   "source": [
    "#use this function to visualise the train dataset with these transforms once you've re-created the trainloader\n",
    "data = next(iter(trainloader))\n",
    "fig, ax = plt.subplots(1, 5)\n",
    "for idx in range(5):\n",
    "    im = data[0][idx]\n",
    "    lbl = data[1][idx]\n",
    "    train_image = (im.numpy())/2 + 0.5\n",
    "    label = class_labels[lbl]\n",
    "    train_image = np.moveaxis(train_image, 0, 2)\n",
    "    ax[idx].imshow(train_image)\n",
    "    ax[idx].set_axis_off()\n",
    "    ax[idx].set_title(label.split('-')[-1])\n",
    "plt.tight_layout()\n",
    "plt.show()\n"
   ]
  },
  {
   "cell_type": "markdown",
   "id": "1a751dd4-74e6-4202-9f6f-de5317e4fc92",
   "metadata": {},
   "source": [
    "## 2. Batch Normalization\n",
    "\n",
    "Another type of layer that is very popular in modern deep learning is the batch normalisation layer -- you can read the Pytorch documentation [here](https://pytorch.org/docs/stable/generated/torch.nn.BatchNorm2d.html#torch.nn.BatchNorm2d). Try creating 2 batch norm layers that immediately proceed the convolutional layers in the network. \n",
    "\n",
    "After you've added this to the model definition, re-train your network. Do you observe any change in performance?\n"
   ]
  },
  {
   "cell_type": "code",
   "execution_count": 31,
   "id": "33e30481-1976-44d3-bf68-a5fba4d31070",
   "metadata": {
    "tags": []
   },
   "outputs": [],
   "source": [
    "### Adapt the code from earlier to include batch normalisation layers in your model"
   ]
  },
  {
   "cell_type": "markdown",
   "id": "bd7ee3b8-256e-4d2c-ab7a-d10b25178cf5",
   "metadata": {
    "tags": []
   },
   "source": [
    "## 3. Observing Model Confidence\n",
    "\n",
    "The outputs from the model are currently un-normalised class logits (scores for each class, but not a distribution between 0 and 100%). \n",
    "\n",
    "You can apply a [Softmax function](https://pytorch.org/docs/stable/generated/torch.nn.functional.softmax.html) to the outputs from your model to find the pseudo-confidence scores in a prediction. Try visualising what the confidence score is for correct predictions and incorrect predictions -- does the model seem to give a higher confidence for correct predictions and lower confidence for incorrect predictions?"
   ]
  },
  {
   "cell_type": "code",
   "execution_count": 32,
   "id": "426bddca-5914-4f43-929a-c3a4eadf71d0",
   "metadata": {
    "tags": []
   },
   "outputs": [],
   "source": [
    "### Adapt the code from earlier to observe model confidence in predictions"
   ]
  },
  {
   "cell_type": "code",
   "execution_count": null,
   "id": "e04fbe87-d32c-4126-9f16-927ba349fd2a",
   "metadata": {},
   "outputs": [],
   "source": []
  }
 ],
 "metadata": {
  "kernelspec": {
   "display_name": "Python 3 (ipykernel)",
   "language": "python",
   "name": "python3"
  },
  "language_info": {
   "codemirror_mode": {
    "name": "ipython",
    "version": 3
   },
   "file_extension": ".py",
   "mimetype": "text/x-python",
   "name": "python",
   "nbconvert_exporter": "python",
   "pygments_lexer": "ipython3",
   "version": "3.10.12"
  }
 },
 "nbformat": 4,
 "nbformat_minor": 5
}
